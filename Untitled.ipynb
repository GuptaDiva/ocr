{
 "cells": [
  {
   "cell_type": "code",
   "execution_count": 2,
   "id": "0bdef3a4",
   "metadata": {},
   "outputs": [],
   "source": [
    "import os\n",
    "import numpy as np\n",
    "import pandas as pd\n",
    "import tensorflow as tf\n",
    "from IPython.display import clear_output as cls\n",
    "\n",
    "# Data \n",
    "from tqdm import tqdm \n",
    "from glob import glob\n",
    "import tensorflow.data as tfd\n",
    "\n",
    "# Data Visualization\n",
    "import plotly.express as px\n",
    "import matplotlib.pyplot as plt\n",
    "\n",
    "# Model\n",
    "from tensorflow import keras\n",
    "from tensorflow.keras import layers\n",
    "from tensorflow.keras import callbacks\n",
    "from tensorflow.keras import applications as tka"
   ]
  },
  {
   "cell_type": "code",
   "execution_count": 3,
   "id": "8c77a17d",
   "metadata": {},
   "outputs": [],
   "source": [
    "!pip install keras_tuner\n",
    "import keras_tuner as kt\n",
    "cls()"
   ]
  },
  {
   "cell_type": "code",
   "execution_count": 4,
   "id": "a4e408eb",
   "metadata": {},
   "outputs": [],
   "source": [
    "# The batch size\n",
    "BATCH_SIZE = 64\n",
    "\n",
    "# Image dims \n",
    "IMAGE_SIZE = (120,120)                                    # Even this will work\n",
    "\n",
    "# Buffer size\n",
    "BUFFER = 1000\n",
    "\n",
    "# Autotuning\n",
    "AUTOTUNE = tfd.AUTOTUNE"
   ]
  },
  {
   "cell_type": "code",
   "execution_count": 5,
   "id": "e4b07386",
   "metadata": {},
   "outputs": [],
   "source": [
    "# Setting the Random Seeds\n",
    "np.random.seed(1024)\n",
    "tf.random.set_seed(1024)"
   ]
  },
  {
   "cell_type": "code",
   "execution_count": null,
   "id": "7161cb57",
   "metadata": {},
   "outputs": [],
   "source": []
  }
 ],
 "metadata": {
  "kernelspec": {
   "display_name": "Python 3 (ipykernel)",
   "language": "python",
   "name": "python3"
  },
  "language_info": {
   "codemirror_mode": {
    "name": "ipython",
    "version": 3
   },
   "file_extension": ".py",
   "mimetype": "text/x-python",
   "name": "python",
   "nbconvert_exporter": "python",
   "pygments_lexer": "ipython3",
   "version": "3.11.2"
  }
 },
 "nbformat": 4,
 "nbformat_minor": 5
}
