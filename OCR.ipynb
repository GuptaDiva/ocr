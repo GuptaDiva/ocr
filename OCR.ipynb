{
 "cells": [
  {
   "cell_type": "code",
   "execution_count": 2,
   "id": "0bdef3a4",
   "metadata": {},
   "outputs": [],
   "source": [
    "import os\n",
    "import numpy as np\n",
    "import pandas as pd\n",
    "import tensorflow as tf\n",
    "from IPython.display import clear_output as cls\n",
    "\n",
    "# Data \n",
    "from tqdm import tqdm \n",
    "from glob import glob\n",
    "import tensorflow.data as tfd\n",
    "\n",
    "# Data Visualization\n",
    "import plotly.express as px\n",
    "import matplotlib.pyplot as plt\n",
    "\n",
    "# Model\n",
    "from tensorflow import keras\n",
    "from tensorflow.keras import layers\n",
    "from tensorflow.keras import callbacks\n",
    "from tensorflow.keras import applications as tka"
   ]
  },
  {
   "cell_type": "code",
   "execution_count": 3,
   "id": "8c77a17d",
   "metadata": {},
   "outputs": [],
   "source": [
    "!pip install keras_tuner\n",
    "import keras_tuner as kt\n",
    "cls()"
   ]
  },
  {
   "cell_type": "code",
   "execution_count": 4,
   "id": "10d2aae7",
   "metadata": {},
   "outputs": [],
   "source": [
    "# The batch size\n",
    "BATCH_SIZE = 64\n",
    "\n",
    "# Image dims \n",
    "IMAGE_SIZE = (120,120)                                    # Even this will work\n",
    "\n",
    "# Buffer size\n",
    "BUFFER = 1000\n",
    "\n",
    "# Autotuning\n",
    "AUTOTUNE = tfd.AUTOTUNE"
   ]
  },
  {
   "cell_type": "code",
   "execution_count": 5,
   "id": "ae0ebb8f",
   "metadata": {},
   "outputs": [],
   "source": [
    "# Setting the Random Seeds\n",
    "np.random.seed(1024)\n",
    "tf.random.set_seed(1024)"
   ]
  },
  {
   "cell_type": "code",
   "execution_count": 6,
   "id": "aadf6b29",
   "metadata": {},
   "outputs": [],
   "source": [
    "# Specify the root paths\n",
    "train_path = \"\\data2\\training_data\"\n",
    "test_path  = \"\\data2\\testing_data\""
   ]
  },
  {
   "cell_type": "code",
   "execution_count": 7,
   "id": "65b486c4",
   "metadata": {},
   "outputs": [
    {
     "ename": "OSError",
     "evalue": "[WinError 123] The filename, directory name, or volume label syntax is incorrect: '\\\\data2\\training_data'",
     "output_type": "error",
     "traceback": [
      "\u001b[1;31m---------------------------------------------------------------------------\u001b[0m",
      "\u001b[1;31mOSError\u001b[0m                                   Traceback (most recent call last)",
      "Cell \u001b[1;32mIn[7], line 2\u001b[0m\n\u001b[0;32m      1\u001b[0m \u001b[38;5;66;03m# Get the class Names\u001b[39;00m\n\u001b[1;32m----> 2\u001b[0m class_names \u001b[38;5;241m=\u001b[39m \u001b[38;5;28msorted\u001b[39m(\u001b[43mos\u001b[49m\u001b[38;5;241;43m.\u001b[39;49m\u001b[43mlistdir\u001b[49m\u001b[43m(\u001b[49m\u001b[43mtrain_path\u001b[49m\u001b[43m)\u001b[49m)\n\u001b[0;32m      4\u001b[0m \u001b[38;5;66;03m# Total number of classes\u001b[39;00m\n\u001b[0;32m      5\u001b[0m n_classes \u001b[38;5;241m=\u001b[39m \u001b[38;5;28mlen\u001b[39m(class_names)\n",
      "\u001b[1;31mOSError\u001b[0m: [WinError 123] The filename, directory name, or volume label syntax is incorrect: '\\\\data2\\training_data'"
     ]
    }
   ],
   "source": [
    "# Get the class Names\n",
    "class_names = sorted(os.listdir(train_path))\n",
    "\n",
    "# Total number of classes\n",
    "n_classes = len(class_names)\n",
    "\n",
    "# Show\n",
    "print(f\"Total Number of Classes : {n_classes}\")\n",
    "print(f\"Class Names : \\n{class_names}\")"
   ]
  },
  {
   "cell_type": "code",
   "execution_count": null,
   "id": "fe4dd391",
   "metadata": {},
   "outputs": [],
   "source": []
  }
 ],
 "metadata": {
  "kernelspec": {
   "display_name": "Python 3 (ipykernel)",
   "language": "python",
   "name": "python3"
  },
  "language_info": {
   "codemirror_mode": {
    "name": "ipython",
    "version": 3
   },
   "file_extension": ".py",
   "mimetype": "text/x-python",
   "name": "python",
   "nbconvert_exporter": "python",
   "pygments_lexer": "ipython3",
   "version": "3.11.2"
  }
 },
 "nbformat": 4,
 "nbformat_minor": 5
}
